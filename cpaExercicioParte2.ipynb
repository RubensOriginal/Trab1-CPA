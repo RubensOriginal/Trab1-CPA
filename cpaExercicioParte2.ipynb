{
 "cells": [
  {
   "cell_type": "code",
   "execution_count": 7,
   "id": "4cfcf05e",
   "metadata": {},
   "outputs": [],
   "source": [
    "from bs4 import BeautifulSoup\n",
    "\n",
    "import os\n",
    "import re"
   ]
  },
  {
   "cell_type": "code",
   "execution_count": 22,
   "id": "ae919fde",
   "metadata": {},
   "outputs": [],
   "source": [
    "class Pessoa:\n",
    "    def __init__(self, nome, pessoa_anterior, inicio):\n",
    "        self._nome = nome\n",
    "        self._pessoa_anterior = pessoa_anterior\n",
    "        self._inicio = inicio\n",
    "\n",
    "    @property\n",
    "    def nome(self):\n",
    "        return self._nome\n",
    "\n",
    "    @property\n",
    "    def pessoa_anterior(self):\n",
    "        return self._pessoa_anterior\n",
    "\n",
    "    @property\n",
    "    def inicio(self):\n",
    "        return self._inicio\n"
   ]
  },
  {
   "cell_type": "code",
   "execution_count": 3,
   "id": "c7d06254",
   "metadata": {},
   "outputs": [],
   "source": [
    "pessoa_inicio = \"Fernando_Henrique_Cardoso\"\n",
    "pessoa_final = \"Vladimir_Putin\""
   ]
  },
  {
   "cell_type": "code",
   "execution_count": 23,
   "id": "4e6291bf",
   "metadata": {},
   "outputs": [],
   "source": [
    "pessoas = {}\n",
    "\n",
    "pilha_pessoas = []\n",
    "\n",
    "pessoas[pessoa_inicio] = Pessoa(pessoa_inicio, \"\", True)\n",
    "pilha_pessoas.append(pessoa_inicio)\n",
    "\n",
    "pessoa_encontrada = False\n",
    "\n",
    "while len(pilha_pessoas) > 0 and not pessoa_encontrada:\n",
    "    pessoa = pilha_pessoas.pop(0)\n",
    "    \n",
    "    \n",
    "    with open(\"./wiki/\" + pessoa + \".html\", 'r') as file:\n",
    "        text = file.read()\n",
    "        \n",
    "        soup = BeautifulSoup(text, \"html.parser\")\n",
    "        \n",
    "        a_tags = soup.find_all(\"a\", href=re.compile('^(/wiki/)((?!:)(?<!Wikip)(?<!L%C3%ADngua).)*$'))\n",
    "        \n",
    "        for i in a_tags:\n",
    "            # print()\n",
    "            \n",
    "            nome = i[\"href\"].split(\"/\")[-1]\n",
    "            \n",
    "            if (os.path.exists(\"./wiki/\" + nome + \".html\")) and (nome not in pessoas):\n",
    "                pilha_pessoas.append(nome)\n",
    "                \n",
    "                pessoas[nome] = Pessoa(nome, pessoa, False)\n",
    "                \n",
    "                if nome == pessoa_final:\n",
    "                    pessoa_encontrada = True\n",
    "                    break\n",
    "            \n",
    "    "
   ]
  },
  {
   "cell_type": "code",
   "execution_count": 24,
   "id": "406131dd",
   "metadata": {},
   "outputs": [
    {
     "name": "stdout",
     "output_type": "stream",
     "text": [
      "Vladimir_Putin ----> Luiz_In%C3%A1cio_Lula_da_Silva ----> Fernando_Henrique_Cardoso\n"
     ]
    }
   ],
   "source": [
    "pessoa_busca = pessoas[pessoa_final]\n",
    "\n",
    "while not pessoa_busca.inicio:\n",
    "    print(pessoa_busca.nome, \"----> \" , end=\"\")\n",
    "    \n",
    "    pessoa_busca = pessoas[pessoa_busca.pessoa_anterior]\n",
    "    \n",
    "print(pessoa_busca.nome)"
   ]
  },
  {
   "cell_type": "code",
   "execution_count": 21,
   "id": "3810b1b5",
   "metadata": {},
   "outputs": [
    {
     "name": "stdout",
     "output_type": "stream",
     "text": [
      "{'Fernando_Henrique_Cardoso': <__main__.Pessoa object at 0x000001F9719E41A0>, 'Itamar_Franco': <__main__.Pessoa object at 0x000001F96ECA5D00>, 'Luiz_In%C3%A1cio_Lula_da_Silva': <__main__.Pessoa object at 0x000001F9711511F0>, 'Franco_Montoro': <__main__.Pessoa object at 0x000001F971153320>, 'J%C3%A2nio_Quadros': <__main__.Pessoa object at 0x000001F96F178320>, 'Ulysses_Guimar%C3%A3es': <__main__.Pessoa object at 0x000001F9712A4980>, 'Tancredo_Neves': <__main__.Pessoa object at 0x000001F9712CF980>, 'Jos%C3%A9_Sarney': <__main__.Pessoa object at 0x000001F9712CFA70>, 'Fernando_Collor': <__main__.Pessoa object at 0x000001F9712CFB00>, 'Juscelino_Kubitschek': <__main__.Pessoa object at 0x000001F9712CFB60>, 'Get%C3%BAlio_Vargas': <__main__.Pessoa object at 0x000001F9712CFB90>, 'Geraldo_Alckmin': <__main__.Pessoa object at 0x000001F9712CFC20>, 'Jair_Bolsonaro': <__main__.Pessoa object at 0x000001F9712CFC50>, 'Fernando_Haddad': <__main__.Pessoa object at 0x000001F9712CFCB0>, 'Deodoro_da_Fonseca': <__main__.Pessoa object at 0x000001F9712CFD40>, 'Epit%C3%A1cio_Pessoa': <__main__.Pessoa object at 0x000001F9712CFD70>, 'Eurico_Gaspar_Dutra': <__main__.Pessoa object at 0x000001F9712CFDD0>, 'Jo%C3%A3o_Goulart': <__main__.Pessoa object at 0x000001F9712CFE30>, 'Ernesto_Geisel': <__main__.Pessoa object at 0x000001F9712CFE90>, 'Dilma_Rousseff': <__main__.Pessoa object at 0x000001F9712CFEF0>, 'Michel_Temer': <__main__.Pessoa object at 0x000001F9712CFF50>, 'Pel%C3%A9': <__main__.Pessoa object at 0x000001F9712CFFE0>, 'Pedro_I_do_Brasil': <__main__.Pessoa object at 0x000001F97130C0B0>, 'Pedro_II_do_Brasil': <__main__.Pessoa object at 0x000001F97130C560>, 'Guimar%C3%A3es_Rosa': <__main__.Pessoa object at 0x000001F97130C410>, 'Nelson_Pereira_dos_Santos': <__main__.Pessoa object at 0x000001F97130C500>, 'Celso_Furtado': <__main__.Pessoa object at 0x000001F97130C440>, 'Jos%C3%A9_de_Alencar': <__main__.Pessoa object at 0x000001F97130C650>, 'Machado_de_Assis': <__main__.Pessoa object at 0x000001F97130CC20>, 'Manuel_Bandeira': <__main__.Pessoa object at 0x000001F97130CB00>, 'Assis_Chateaubriand': <__main__.Pessoa object at 0x000001F97130CE30>, 'Jo%C3%A3o_Cabral_de_Melo_Neto': <__main__.Pessoa object at 0x000001F97130CDD0>, 'Jimmy_Carter': <__main__.Pessoa object at 0x000001F97130CF20>, 'Sergio_Moro': <__main__.Pessoa object at 0x000001F96F5A4500>, 'F%C3%A1bio_Barreto': <__main__.Pessoa object at 0x000001F96F5DCB00>, 'Gustavo_Petro': <__main__.Pessoa object at 0x000001F96EB895B0>, 'Emmanuel_Macron': <__main__.Pessoa object at 0x000001F96EB894F0>, 'Donald_Trump': <__main__.Pessoa object at 0x000001F96EB89670>, 'Vladimir_Putin': <__main__.Pessoa object at 0x000001F96EB896D0>}\n"
     ]
    }
   ],
   "source": [
    "print(pessoas)"
   ]
  }
 ],
 "metadata": {
  "kernelspec": {
   "display_name": "ambiente-cpa",
   "language": "python",
   "name": "python3"
  },
  "language_info": {
   "codemirror_mode": {
    "name": "ipython",
    "version": 3
   },
   "file_extension": ".py",
   "mimetype": "text/x-python",
   "name": "python",
   "nbconvert_exporter": "python",
   "pygments_lexer": "ipython3",
   "version": "3.12.11"
  }
 },
 "nbformat": 4,
 "nbformat_minor": 5
}
